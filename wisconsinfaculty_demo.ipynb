{
 "cells": [
  {
   "cell_type": "markdown",
   "metadata": {},
   "source": [
    "# Wisconsin faculty salaries\n",
    "\n",
    "In this demo, we'll analyze data on average faculty salaries in Wisconsin, as compiled by the [Chronicle of Higher Education](http://data.chronicle.com/category/state/Wisconsin/faculty-salaries/).  The file ```wisconsinfaculty.txt``` contains data on faculty salaries at the 25 highest-paying institutions in Wisconsin in the 2013-2014 academic year, ordered by pay for faculty with the rank of Professor."
   ]
  },
  {
   "cell_type": "code",
   "execution_count": null,
   "metadata": {
    "collapsed": true
   },
   "outputs": [],
   "source": [
    "import pandas as pd\n",
    "import numpy as np"
   ]
  },
  {
   "cell_type": "code",
   "execution_count": null,
   "metadata": {
    "collapsed": false
   },
   "outputs": [],
   "source": [
    "# To start, we look at the first 10 lines of the file, to understand its structure.\n",
    "\n",
    "with open(\"wisconsinfaculty.txt\") as wisc_file:\n",
    "    line_num = 0\n",
    "    for line in wisc_file:\n",
    "        print(\"Line number:\", line_num, line)\n",
    "        line_num +=1\n",
    "        if line_num==10:\n",
    "            break\n",
    "        "
   ]
  },
  {
   "cell_type": "markdown",
   "metadata": {},
   "source": [
    "We see that after a header line, institution names are on odd lines and institution data is on even lines."
   ]
  },
  {
   "cell_type": "markdown",
   "metadata": {},
   "source": [
    "We want to build a data frame with the following headers: Institution, Is Public, Professors, Associate Professors\tAssistant Professors, Instructors, Lecturers, and Unranked.\n",
    "\n",
    "Let's start by making sure we can extract the appropriate information.  We'll test our code on the first few lines of the file, to make sure it works."
   ]
  },
  {
   "cell_type": "code",
   "execution_count": null,
   "metadata": {
    "collapsed": false
   },
   "outputs": [],
   "source": [
    "%%time\n",
    "with open(\"wisconsinfaculty.txt\") as wisc_file:\n",
    "    \n",
    "    #skip the header line\n",
    "    next(wisc_file)\n",
    "    \n",
    "    line_num=1\n",
    "    while line_num < 10:\n",
    "        # We use readline() to read two lines at once\n",
    "        odd_line = wisc_file.readline()\n",
    "        even_line = wisc_file.readline()\n",
    "        \n",
    "        #break out of the loop if we hit the end of the file\n",
    "        if not even_line:\n",
    "            break\n",
    "        \n",
    "        inst = odd_line.strip()\n",
    "        \n",
    "        #split the even line on the pipe symbol to extract public vs. private\n",
    "        pipe_list = even_line.split(\"|\")\n",
    "        is_public =  \"public\" in pipe_list[1]\n",
    "        \n",
    "        #split on \\t to extract the salary amount\n",
    "        salary_list = pipe_list[2].split(\"\\t\")[1:]\n",
    "        \n",
    "        #strip special characters from salaries\n",
    "        salary_list = [s.translate({ord(i):None for i in \"$,\\n-\"}) for s in salary_list]\n",
    "        \n",
    "        #convert strings to numbers if non-empty\n",
    "        salary_list = [np.nan if s==\"\" else eval(s) for s in salary_list]\n",
    "        \n",
    "        print(inst, is_public, salary_list)\n",
    "            \n",
    "        line_num += 2"
   ]
  },
  {
   "cell_type": "markdown",
   "metadata": {},
   "source": [
    "Now we have to insert our information in a data frame.  A naive way to do this is to create an empty data frame and append the information for each row as we compute it."
   ]
  },
  {
   "cell_type": "code",
   "execution_count": null,
   "metadata": {
    "collapsed": false
   },
   "outputs": [],
   "source": [
    "%%time \n",
    "with open(\"wisconsinfaculty.txt\") as wisc_file:\n",
    "    \n",
    "    #skip the header line\n",
    "    next(wisc_file)\n",
    "    \n",
    "    # create an empty data frame with the appropriate columns\n",
    "    column_names = ('Institution', 'Is Public', 'Professors', 'Associate Professors', 'Assistant Professors', 'Instructors', 'Lecturers', 'Unranked')\n",
    "    fac_df = pd.DataFrame(columns=column_names)\n",
    "    \n",
    "    line_num=1\n",
    "    while line_num < 10:\n",
    "        # We use readline() to read two lines at once\n",
    "        odd_line = wisc_file.readline()\n",
    "        even_line = wisc_file.readline()\n",
    "        \n",
    "        #break out of the loop if we hit the end of the file\n",
    "        if not even_line:\n",
    "            break\n",
    "        \n",
    "        inst = odd_line.strip()\n",
    "        \n",
    "        #split the even line on the pipe symbol to extract public vs. private\n",
    "        pipe_list = even_line.split(\"|\")\n",
    "        is_public =  \"public\" in pipe_list[1]\n",
    "        \n",
    "        #split on \\t to extract the salary amount\n",
    "        salary_list = pipe_list[2].split(\"\\t\")[1:]\n",
    "        \n",
    "        #strip special characters from salaries\n",
    "        salary_list = [s.translate({ord(i):None for i in \"$,\\n-\"}) for s in salary_list]\n",
    "        \n",
    "        #convert strings to numbers if non-empty\n",
    "        salary_list = [np.nan if s==\"\" else eval(s) for s in salary_list]\n",
    "        \n",
    "        fac_df = fac_df.append(pd.DataFrame([[inst, is_public]+salary_list], columns = column_names))\n",
    "            \n",
    "        line_num += 2\n",
    "\n",
    "print(fac_df)"
   ]
  },
  {
   "cell_type": "markdown",
   "metadata": {},
   "source": [
    "We see that appending the information for each row is significantly slower than merely computing the information itself.  The problem is that appending data frames is a memory-intensive operation."
   ]
  },
  {
   "cell_type": "markdown",
   "metadata": {},
   "source": [
    "We can make our code faster by storing the information we compute in a list of dictionaries, and converting to a data frame at the end."
   ]
  },
  {
   "cell_type": "code",
   "execution_count": null,
   "metadata": {
    "collapsed": false
   },
   "outputs": [],
   "source": [
    "%%time\n",
    "with open(\"wisconsinfaculty.txt\") as wisc_file:\n",
    "    \n",
    "    #skip the header line\n",
    "    next(wisc_file)\n",
    "    \n",
    "    dict_list = []\n",
    "    column_names = ('Institution', 'Is Public', 'Professors', 'Associate Professors', 'Assistant Professors', 'Instructors', 'Lecturers', 'Unranked')\n",
    "    \n",
    "    line_num=1\n",
    "    while line_num < 10:\n",
    "        # We use readline() to read two lines at once\n",
    "        odd_line = wisc_file.readline()\n",
    "        even_line = wisc_file.readline()\n",
    "        \n",
    "        #break out of the loop if we hit the end of the file\n",
    "        if not even_line:\n",
    "            break\n",
    "        \n",
    "        inst = odd_line.strip()\n",
    "        \n",
    "        #split the even line on the pipe symbol to extract public vs. private\n",
    "        pipe_list = even_line.split(\"|\")\n",
    "        is_public =  \"public\" in pipe_list[1]\n",
    "        \n",
    "        #split on \\t to extract the salary amount\n",
    "        salary_list = pipe_list[2].split(\"\\t\")[1:]\n",
    "        \n",
    "        #strip special characters from salaries\n",
    "        salary_list = [s.translate({ord(i):None for i in \"$,\\n-\"}) for s in salary_list]\n",
    "        \n",
    "        #convert strings to numbers if non-empty\n",
    "        salary_list = [np.nan if s==\"\" else eval(s) for s in salary_list]\n",
    "        \n",
    "        dict_list.append(dict(zip(column_names, [inst,is_public]+salary_list)))\n",
    "            \n",
    "        line_num += 2\n",
    "\n",
    "fac_df = pd.DataFrame(dict_list)\n",
    "print(fac_df)"
   ]
  },
  {
   "cell_type": "markdown",
   "metadata": {},
   "source": [
    "We're ready to run our code on the full file!"
   ]
  },
  {
   "cell_type": "code",
   "execution_count": null,
   "metadata": {
    "collapsed": false
   },
   "outputs": [],
   "source": [
    "with open(\"wisconsinfaculty.txt\") as wisc_file:\n",
    "    \n",
    "    #skip the header line\n",
    "    next(wisc_file)\n",
    "    \n",
    "    dict_list = []\n",
    "    column_names = ('Institution', 'Is Public', 'Professors', 'Associate Professors', 'Assistant Professors', 'Instructors', 'Lecturers', 'Unranked')\n",
    "    \n",
    "    #We rely on our break command at the end of the file to exit the loop gracefully\n",
    "    \n",
    "    while True:\n",
    "        # We use readline() to read two lines at once\n",
    "        odd_line = wisc_file.readline()\n",
    "        even_line = wisc_file.readline()\n",
    "        \n",
    "        #break out of the loop if we hit the end of the file\n",
    "        if not even_line:\n",
    "            break\n",
    "        \n",
    "        inst = odd_line.strip()\n",
    "        \n",
    "        #split the even line on the pipe symbol to extract public vs. private\n",
    "        pipe_list = even_line.split(\"|\")\n",
    "        is_public =  \"public\" in pipe_list[1]\n",
    "        \n",
    "        #split on \\t to extract the salary amount\n",
    "        salary_list = pipe_list[2].split(\"\\t\")[1:]\n",
    "        \n",
    "        #strip special characters from salaries\n",
    "        salary_list = [s.translate({ord(i):None for i in \"$,\\n-\"}) for s in salary_list]\n",
    "        \n",
    "        #convert strings to numbers if non-empty\n",
    "        salary_list = [np.nan if s==\"\" else eval(s) for s in salary_list]\n",
    "        \n",
    "        dict_list.append(dict(zip(column_names, [inst,is_public]+salary_list)))\n",
    "\n",
    "fac_df = pd.DataFrame(dict_list)\n",
    "fac_df"
   ]
  },
  {
   "cell_type": "markdown",
   "metadata": {},
   "source": [
    "Now that we have created the data frame, it's easy to extract summary statistics!"
   ]
  },
  {
   "cell_type": "code",
   "execution_count": null,
   "metadata": {
    "collapsed": false
   },
   "outputs": [],
   "source": [
    "fac_df.describe()"
   ]
  },
  {
   "cell_type": "code",
   "execution_count": null,
   "metadata": {
    "collapsed": false
   },
   "outputs": [],
   "source": [
    "fac_df.groupby('Is Public').describe()"
   ]
  },
  {
   "cell_type": "code",
   "execution_count": null,
   "metadata": {
    "collapsed": true
   },
   "outputs": [],
   "source": []
  }
 ],
 "metadata": {
  "kernelspec": {
   "display_name": "Python 3",
   "language": "python",
   "name": "python3"
  },
  "language_info": {
   "codemirror_mode": {
    "name": "ipython",
    "version": 3
   },
   "file_extension": ".py",
   "mimetype": "text/x-python",
   "name": "python",
   "nbconvert_exporter": "python",
   "pygments_lexer": "ipython3",
   "version": "3.4.3"
  }
 },
 "nbformat": 4,
 "nbformat_minor": 0
}
