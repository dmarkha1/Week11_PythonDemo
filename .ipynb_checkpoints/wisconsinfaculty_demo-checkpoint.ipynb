{
 "cells": [
  {
   "cell_type": "markdown",
   "metadata": {},
   "source": [
    "# Wisconsin faculty salaries\n",
    "\n",
    "In this demo, we'll analyze data on average faculty salaries in Wisconsin, as compiled by the [Chronicle of Higher Education](http://data.chronicle.com/category/state/Wisconsin/faculty-salaries/).  The file ```wisconsinfaculty.txt``` contains data on faculty salaries at the 25 highest-paying institutions in Wisconsin in the 2013-2014 academic year, ordered by pay for faculty with the rank of Professor."
   ]
  },
  {
   "cell_type": "code",
   "execution_count": 1,
   "metadata": {
    "collapsed": true
   },
   "outputs": [],
   "source": [
    "import pandas as pd\n",
    "import numpy as np"
   ]
  },
  {
   "cell_type": "code",
   "execution_count": 2,
   "metadata": {
    "collapsed": false
   },
   "outputs": [
    {
     "name": "stdout",
     "output_type": "stream",
     "text": [
      "Line number: 0 Institution\tProfessors\tAssociate Professors\tAssistant Professors\tInstructors\tLecturers\tUnranked\n",
      "\n",
      "Line number: 1 Marquette University\n",
      "\n",
      "Line number: 2 Wisconsin | 4-year private | Doctoral\t$118,953\t$83,853\t$72,702\t$55,863\t$53,937\t$56,052\n",
      "\n",
      "Line number: 3 University of Wisconsin at Madison\n",
      "\n",
      "Line number: 4 Wisconsin | 4-year public | Very high research activity\t$113,094\t$84,510\t$77,157\t$51,120\t$66,078\t$34,407\n",
      "\n",
      "Line number: 5 University of Wisconsin at Milwaukee\n",
      "\n",
      "Line number: 6 Wisconsin | 4-year public | High research activity\t$97,317\t$74,925\t$70,173\t$49,077\t$45,513\t--\n",
      "\n",
      "Line number: 7 Lawrence University\n",
      "\n",
      "Line number: 8 Wisconsin | 4-year private | Arts and sciences baccalaureate\t$90,324\t$69,597\t$54,396\t$50,859\t--\t--\n",
      "\n",
      "Line number: 9 Carthage College\n",
      "\n"
     ]
    }
   ],
   "source": [
    "# To start, we look at the first 10 lines of the file, to understand its structure.\n",
    "\n",
    "with open(\"wisconsinfaculty.txt\") as wisc_file:\n",
    "    line_num = 0\n",
    "    for line in wisc_file:\n",
    "        print(\"Line number:\", line_num, line)\n",
    "        line_num +=1\n",
    "        if line_num==10:\n",
    "            break\n",
    "        "
   ]
  },
  {
   "cell_type": "markdown",
   "metadata": {},
   "source": [
    "We see that after a header line, institution names are on odd lines and institution data is on even lines."
   ]
  },
  {
   "cell_type": "markdown",
   "metadata": {},
   "source": [
    "We want to build a data frame with the following headers: Institution, Is Public, Professors, Associate Professors\tAssistant Professors, Instructors, Lecturers, and Unranked.\n",
    "\n",
    "Let's start by making sure we can extract the appropriate information.  We'll test our code on the first few lines of the file, to make sure it works."
   ]
  },
  {
   "cell_type": "code",
   "execution_count": 3,
   "metadata": {
    "collapsed": false
   },
   "outputs": [
    {
     "name": "stdout",
     "output_type": "stream",
     "text": [
      "Marquette University False [118953, 83853, 72702, 55863, 53937, 56052]\n",
      "University of Wisconsin at Madison True [113094, 84510, 77157, 51120, 66078, 34407]\n",
      "University of Wisconsin at Milwaukee True [97317, 74925, 70173, 49077, 45513, nan]\n",
      "Lawrence University False [90324, 69597, 54396, 50859, nan, nan]\n",
      "Carthage College False [84501, 68958, 57816, 34128, nan, nan]\n",
      "Wall time: 1e+03 µs\n"
     ]
    }
   ],
   "source": [
    "%%time\n",
    "with open(\"wisconsinfaculty.txt\") as wisc_file:\n",
    "    \n",
    "    #skip the header line\n",
    "    next(wisc_file)\n",
    "    \n",
    "    line_num=1\n",
    "    while line_num < 10:\n",
    "        # We use readline() to read two lines at once\n",
    "        odd_line = wisc_file.readline()\n",
    "        even_line = wisc_file.readline()\n",
    "        \n",
    "        #break out of the loop if we hit the end of the file\n",
    "        if not even_line:\n",
    "            break\n",
    "        \n",
    "        inst = odd_line.strip()\n",
    "        \n",
    "        #split the even line on the pipe symbol to extract public vs. private\n",
    "        pipe_list = even_line.split(\"|\")\n",
    "        is_public =  \"public\" in pipe_list[1]\n",
    "        \n",
    "        #split on \\t to extract the salary amount\n",
    "        salary_list = pipe_list[2].split(\"\\t\")[1:]\n",
    "        \n",
    "        #strip special characters from salaries\n",
    "        salary_list = [s.translate({ord(i):None for i in \"$,\\n-\"}) for s in salary_list]\n",
    "        \n",
    "        #convert strings to numbers if non-empty\n",
    "        salary_list = [np.nan if s==\"\" else eval(s) for s in salary_list]\n",
    "        \n",
    "        print(inst, is_public, salary_list)\n",
    "            \n",
    "        line_num += 2"
   ]
  },
  {
   "cell_type": "markdown",
   "metadata": {},
   "source": [
    "Now we have to insert our information in a data frame.  A naive way to do this is to create an empty data frame and append the information for each row as we compute it."
   ]
  },
  {
   "cell_type": "code",
   "execution_count": 5,
   "metadata": {
    "collapsed": false
   },
   "outputs": [
    {
     "name": "stdout",
     "output_type": "stream",
     "text": [
      "                            Institution Is Public  Professors  \\\n",
      "0                  Marquette University     False    118953.0   \n",
      "0    University of Wisconsin at Madison      True    113094.0   \n",
      "0  University of Wisconsin at Milwaukee      True     97317.0   \n",
      "0                   Lawrence University     False     90324.0   \n",
      "0                      Carthage College     False     84501.0   \n",
      "\n",
      "   Associate Professors  Assistant Professors  Instructors  Lecturers  \\\n",
      "0               83853.0               72702.0      55863.0    53937.0   \n",
      "0               84510.0               77157.0      51120.0    66078.0   \n",
      "0               74925.0               70173.0      49077.0    45513.0   \n",
      "0               69597.0               54396.0      50859.0        NaN   \n",
      "0               68958.0               57816.0      34128.0        NaN   \n",
      "\n",
      "   Unranked  \n",
      "0   56052.0  \n",
      "0   34407.0  \n",
      "0       NaN  \n",
      "0       NaN  \n",
      "0       NaN  \n",
      "Wall time: 16 ms\n"
     ]
    }
   ],
   "source": [
    "%%time \n",
    "with open(\"wisconsinfaculty.txt\") as wisc_file:\n",
    "    \n",
    "    #skip the header line\n",
    "    next(wisc_file)\n",
    "    \n",
    "    # create an empty data frame with the appropriate columns\n",
    "    column_names = ('Institution', 'Is Public', 'Professors', 'Associate Professors', 'Assistant Professors', 'Instructors', 'Lecturers', 'Unranked')\n",
    "    fac_df = pd.DataFrame(columns=column_names)\n",
    "    \n",
    "    line_num=1\n",
    "    while line_num < 10:\n",
    "        # We use readline() to read two lines at once\n",
    "        odd_line = wisc_file.readline()\n",
    "        even_line = wisc_file.readline()\n",
    "        \n",
    "        #break out of the loop if we hit the end of the file\n",
    "        if not even_line:\n",
    "            break\n",
    "        \n",
    "        inst = odd_line.strip()\n",
    "        \n",
    "        #split the even line on the pipe symbol to extract public vs. private\n",
    "        pipe_list = even_line.split(\"|\")\n",
    "        is_public =  \"public\" in pipe_list[1]\n",
    "        \n",
    "        #split on \\t to extract the salary amount\n",
    "        salary_list = pipe_list[2].split(\"\\t\")[1:]\n",
    "        \n",
    "        #strip special characters from salaries\n",
    "        salary_list = [s.translate({ord(i):None for i in \"$,\\n-\"}) for s in salary_list]\n",
    "        \n",
    "        #convert strings to numbers if non-empty\n",
    "        salary_list = [np.nan if s==\"\" else eval(s) for s in salary_list]\n",
    "        \n",
    "        fac_df = fac_df.append(pd.DataFrame([[inst, is_public]+salary_list], columns = column_names))\n",
    "            \n",
    "        line_num += 2\n",
    "\n",
    "print(fac_df)"
   ]
  },
  {
   "cell_type": "markdown",
   "metadata": {},
   "source": [
    "We see that appending the information for each row is significantly slower than merely computing the information itself.  The problem is that appending data frames is a memory-intensive operation."
   ]
  },
  {
   "cell_type": "markdown",
   "metadata": {},
   "source": [
    "We can make our code faster by storing the information we compute in a list of dictionaries, and converting to a data frame at the end."
   ]
  },
  {
   "cell_type": "code",
   "execution_count": 7,
   "metadata": {
    "collapsed": false
   },
   "outputs": [
    {
     "name": "stdout",
     "output_type": "stream",
     "text": [
      " 4-year private \n",
      " Doctoral\t$118,953\t$83,853\t$72,702\t$55,863\t$53,937\t$56,052\n",
      "\n",
      " 4-year public \n",
      " Very high research activity\t$113,094\t$84,510\t$77,157\t$51,120\t$66,078\t$34,407\n",
      "\n",
      " 4-year public \n",
      " High research activity\t$97,317\t$74,925\t$70,173\t$49,077\t$45,513\t--\n",
      "\n",
      " 4-year private \n",
      " Arts and sciences baccalaureate\t$90,324\t$69,597\t$54,396\t$50,859\t--\t--\n",
      "\n",
      " 4-year private \n",
      " Arts and sciences baccalaureate\t$84,501\t$68,958\t$57,816\t$34,128\t--\t--\n",
      "\n",
      "   Assistant Professors  Associate Professors  \\\n",
      "0                 72702                 83853   \n",
      "1                 77157                 84510   \n",
      "2                 70173                 74925   \n",
      "3                 54396                 69597   \n",
      "4                 57816                 68958   \n",
      "\n",
      "                            Institution  Instructors Is Public  Lecturers  \\\n",
      "0                  Marquette University        55863     False    53937.0   \n",
      "1    University of Wisconsin at Madison        51120      True    66078.0   \n",
      "2  University of Wisconsin at Milwaukee        49077      True    45513.0   \n",
      "3                   Lawrence University        50859     False        NaN   \n",
      "4                      Carthage College        34128     False        NaN   \n",
      "\n",
      "   Professors  Unranked  \n",
      "0      118953   56052.0  \n",
      "1      113094   34407.0  \n",
      "2       97317       NaN  \n",
      "3       90324       NaN  \n",
      "4       84501       NaN  \n",
      "Wall time: 39 ms\n"
     ]
    }
   ],
   "source": [
    "%%time\n",
    "with open(\"wisconsinfaculty.txt\") as wisc_file:\n",
    "    \n",
    "    #skip the header line\n",
    "    next(wisc_file)\n",
    "    \n",
    "    dict_list = []\n",
    "    column_names = ('Institution', 'Is Public', 'Professors', 'Associate Professors', 'Assistant Professors', 'Instructors', 'Lecturers', 'Unranked')\n",
    "    \n",
    "    line_num=1\n",
    "    while line_num < 10:\n",
    "        # We use readline() to read two lines at once\n",
    "        odd_line = wisc_file.readline()\n",
    "        even_line = wisc_file.readline()\n",
    "        \n",
    "        #break out of the loop if we hit the end of the file\n",
    "        if not even_line:\n",
    "            break\n",
    "        \n",
    "        inst = odd_line.strip()\n",
    "        \n",
    "        #split the even line on the pipe symbol to extract public vs. private\n",
    "        pipe_list = even_line.split(\"|\")\n",
    "        is_public =  \"public\" in pipe_list[1]\n",
    "#         print(pipe_list[1])\n",
    "        \n",
    "        #split on \\t to extract the salary amount\n",
    "        salary_list = pipe_list[2].split(\"\\t\")[1:]\n",
    "#         print(pipe_list[2])\n",
    "        \n",
    "        #strip special characters from salaries\n",
    "        salary_list = [s.translate({ord(i):None for i in \"$,\\n-\"}) for s in salary_list]\n",
    "        \n",
    "        #convert strings to numbers if non-empty\n",
    "        salary_list = [np.nan if s==\"\" else eval(s) for s in salary_list]\n",
    "        \n",
    "        dict_list.append(dict(zip(column_names, [inst,is_public]+salary_list)))\n",
    "            \n",
    "        line_num += 2\n",
    "\n",
    "fac_df = pd.DataFrame(dict_list)\n",
    "print(fac_df)"
   ]
  },
  {
   "cell_type": "markdown",
   "metadata": {},
   "source": [
    "We're ready to run our code on the full file!"
   ]
  },
  {
   "cell_type": "code",
   "execution_count": null,
   "metadata": {
    "collapsed": false
   },
   "outputs": [],
   "source": [
    "with open(\"wisconsinfaculty.txt\") as wisc_file:\n",
    "    \n",
    "    #skip the header line\n",
    "    next(wisc_file)\n",
    "    \n",
    "    dict_list = []\n",
    "    column_names = ('Institution', 'Is Public', 'Professors', 'Associate Professors', 'Assistant Professors', 'Instructors', 'Lecturers', 'Unranked')\n",
    "    \n",
    "    #We rely on our break command at the end of the file to exit the loop gracefully\n",
    "    \n",
    "    while True:\n",
    "        # We use readline() to read two lines at once\n",
    "        odd_line = wisc_file.readline()\n",
    "        even_line = wisc_file.readline()\n",
    "        \n",
    "        #break out of the loop if we hit the end of the file\n",
    "        if not even_line:\n",
    "            break\n",
    "        \n",
    "        inst = odd_line.strip()\n",
    "        \n",
    "        #split the even line on the pipe symbol to extract public vs. private\n",
    "        pipe_list = even_line.split(\"|\")\n",
    "        is_public =  \"public\" in pipe_list[1]\n",
    "        \n",
    "        #split on \\t to extract the salary amount\n",
    "        salary_list = pipe_list[2].split(\"\\t\")[1:]\n",
    "        \n",
    "        #strip special characters from salaries\n",
    "        salary_list = [s.translate({ord(i):None for i in \"$,\\n-\"}) for s in salary_list]\n",
    "        \n",
    "        #convert strings to numbers if non-empty\n",
    "        salary_list = [np.nan if s==\"\" else eval(s) for s in salary_list]\n",
    "        \n",
    "        dict_list.append(dict(zip(column_names, [inst,is_public]+salary_list)))\n",
    "\n",
    "fac_df = pd.DataFrame(dict_list)\n",
    "fac_df"
   ]
  },
  {
   "cell_type": "markdown",
   "metadata": {},
   "source": [
    "Now that we have created the data frame, it's easy to extract summary statistics!"
   ]
  },
  {
   "cell_type": "code",
   "execution_count": null,
   "metadata": {
    "collapsed": false
   },
   "outputs": [],
   "source": [
    "fac_df.describe()"
   ]
  },
  {
   "cell_type": "code",
   "execution_count": null,
   "metadata": {
    "collapsed": false
   },
   "outputs": [],
   "source": [
    "fac_df.groupby('Is Public').describe()"
   ]
  },
  {
   "cell_type": "code",
   "execution_count": null,
   "metadata": {
    "collapsed": true
   },
   "outputs": [],
   "source": []
  }
 ],
 "metadata": {
  "kernelspec": {
   "display_name": "Python [Root]",
   "language": "python",
   "name": "Python [Root]"
  },
  "language_info": {
   "codemirror_mode": {
    "name": "ipython",
    "version": 3
   },
   "file_extension": ".py",
   "mimetype": "text/x-python",
   "name": "python",
   "nbconvert_exporter": "python",
   "pygments_lexer": "ipython3",
   "version": "3.5.2"
  }
 },
 "nbformat": 4,
 "nbformat_minor": 0
}
